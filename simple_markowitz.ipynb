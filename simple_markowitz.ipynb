{
 "cells": [
  {
   "cell_type": "code",
   "execution_count": 1,
   "id": "9ee7b6d4-fa34-40a4-9f29-62bcfbe26929",
   "metadata": {},
   "outputs": [],
   "source": [
    "import pandas as pd\n",
    "import numpy as np"
   ]
  },
  {
   "cell_type": "markdown",
   "id": "4aebe6f3-4498-4779-afb9-e73631f3fff3",
   "metadata": {},
   "source": [
    "# Load and process data"
   ]
  },
  {
   "cell_type": "code",
   "execution_count": 2,
   "id": "b66600cb-e419-4505-a8d7-9675a5e4bea8",
   "metadata": {},
   "outputs": [],
   "source": [
    "!ls ./datas/ > cours.txt"
   ]
  },
  {
   "cell_type": "code",
   "execution_count": 3,
   "id": "4b5bd9eb-c7fc-41e8-8e0a-877ffe5caed6",
   "metadata": {},
   "outputs": [],
   "source": [
    "# For now stock prices are manually downloaded on Yahoo Finance --> TO BE IMPROVED\n",
    "files_paths = []\n",
    "\n",
    "with open(\"cours.txt\", \"r\") as file:\n",
    "    for line in file:\n",
    "        files_paths.append(\"./datas/\" + line[:-1])"
   ]
  },
  {
   "cell_type": "code",
   "execution_count": 4,
   "id": "659ad02d-d180-45ed-81b8-966ebacefcc5",
   "metadata": {},
   "outputs": [],
   "source": [
    "# Create a dataframe with stock prices with a common time period\n",
    "\n",
    "stock_prices_df = pd.DataFrame(columns=[\"Date\"])\n",
    "\n",
    "for file in files_paths:\n",
    "    ticker = file.split(\"/\")[2][:-4] # Extract ticker name from the file name\n",
    "    df = pd.read_csv(file)\n",
    "    df = df[[\"Date\", \"Close\"]]\n",
    "    df.columns = [\"Date\", ticker]\n",
    "    stock_prices_df = pd.merge(stock_prices_df, df, how='outer', on='Date')\n",
    "\n",
    "stock_prices_df = stock_prices_df.sort_values(by=\"Date\")\n",
    "stock_prices_df.index = stock_prices_df[\"Date\"]\n",
    "stock_prices_df.drop(\"Date\", axis=1, inplace=True)\n",
    "stock_prices_df.dropna(inplace=True)"
   ]
  },
  {
   "cell_type": "code",
   "execution_count": 5,
   "id": "bfbdf030-5aae-4cac-bffe-4bad37073ca7",
   "metadata": {},
   "outputs": [],
   "source": [
    "# Select desired time_period --> TO BE IMPROVED\n",
    "nb_days = 250\n",
    "stock_prices_df = stock_prices_df.iloc[-nb_days:, :]"
   ]
  },
  {
   "cell_type": "code",
   "execution_count": 6,
   "id": "0743651b-36c4-476e-8700-93913832836a",
   "metadata": {},
   "outputs": [],
   "source": [
    "# Compute daily returns (continuous)\n",
    "\n",
    "for col in stock_prices_df.columns:\n",
    "    stock_prices_df[col] = np.log(stock_prices_df[col].shift(1) / stock_prices_df[col]) # Dividends not included --> TO BE IMPROVED\n",
    "    \n",
    "stock_prices_df.dropna(inplace=True)\n",
    "market_prices_df = stock_prices_df[\"^FCHI\"]\n",
    "stock_prices_df.drop(\"^FCHI\", axis=1, inplace=True)"
   ]
  },
  {
   "cell_type": "markdown",
   "id": "1b411b19-7c7f-4de1-853b-b53e06f9c039",
   "metadata": {},
   "source": [
    "# Compute optimal portfolio allocations"
   ]
  },
  {
   "cell_type": "code",
   "execution_count": 58,
   "id": "cccfc325-2915-4c20-b3f0-c94d4b6a7a53",
   "metadata": {},
   "outputs": [],
   "source": [
    "def compute_GMVP_weights(inv_covariance_matrix, unit_vector):\n",
    "    \"\"\" Compute GMVP (Global minimum variance portfolio)\"\"\"\n",
    "    \n",
    "    return (inv_covariance_matrix @ unit_vector) / (unit_vector.T @ inv_covariance_matrix @ unit_vector)"
   ]
  },
  {
   "cell_type": "code",
   "execution_count": 68,
   "id": "ba519622-9827-4ba5-a935-42916162a8c1",
   "metadata": {},
   "outputs": [],
   "source": [
    "def compute_efficient_portfolio_weights(inv_covariance_matrix, unit_vector, returns_vector, target_return):\n",
    "    \n",
    "    returns_unit = np.c_[returns_vector, unit_vector].T\n",
    "    \n",
    "    a = returns_unit @ inv_covariance_matrix @ returns_unit.T\n",
    "    inv_a = np.linalg.inv(a)\n",
    "\n",
    "    transfo_matrix = inv_covariance_matrix @ returns_unit.T @ inv_a\n",
    "    \n",
    "    return transfo_matrix @ np.array([target_return, 1]).reshape(2, 1)"
   ]
  },
  {
   "cell_type": "code",
   "execution_count": 43,
   "id": "90d4aecb-77dc-4770-84a1-c6b3792797dc",
   "metadata": {},
   "outputs": [],
   "source": [
    "def compute_metrics_ptf(weights, returns, covariance):\n",
    "    \n",
    "    expected_return = weights.T @ returns\n",
    "    expected_var = weights.T @ covariance @ weights\n",
    "    expected_volat = np.sqrt(expected_var)\n",
    "    \n",
    "    expected_return = expected_return[0][0]\n",
    "    expected_var = expected_var.values[0][0]\n",
    "    expected_volat = expected_volat.values[0][0]\n",
    "    \n",
    "    print(\"expected_return : {:.6f}\".format(expected_return))\n",
    "    print(\"expected_variance : {:.6f}\".format(expected_var))\n",
    "    print(\"expected_volatility : {:.6f}\".format(expected_volat))\n",
    "    \n",
    "    return expected_return, expected_var, expected_volat    "
   ]
  },
  {
   "cell_type": "code",
   "execution_count": 63,
   "id": "30a1465b-db21-49cd-b13a-7cf04283603e",
   "metadata": {},
   "outputs": [],
   "source": [
    "# Compute returns for the period, covariance matrix and unit vector\n",
    "\n",
    "returns = stock_prices_df.sum() # Mean for average daily returns or sum for period return. To rebase on a yearly return ?\n",
    "returns_vector = np.array(returns).reshape(len(returns), 1)\n",
    "\n",
    "covariance_matrix = stock_prices_df.cov()\n",
    "inv_covariance_matrix = np.linalg.inv(covariance_matrix)\n",
    "\n",
    "unit_vector = np.full((len(returns), 1), 1)"
   ]
  },
  {
   "cell_type": "code",
   "execution_count": 60,
   "id": "33630fbf-f107-405c-9977-14892507fc25",
   "metadata": {},
   "outputs": [
    {
     "name": "stdout",
     "output_type": "stream",
     "text": [
      "expected_return : -0.054498\n",
      "expected_variance : 0.000002\n",
      "expected_volatility : 0.001400\n"
     ]
    }
   ],
   "source": [
    "# Compute GMVP (Global minimum variance portfolio)\n",
    "\n",
    "weights_GMVP = compute_GMVP_weights(inv_covariance_matrix, unit_vector)\n",
    "expected_return_GMVP, expected_var_GMVP, expected_volat_GMVP = compute_metrics_ptf(weights_GMVP, returns_array, covariance_matrix)"
   ]
  },
  {
   "cell_type": "code",
   "execution_count": 69,
   "id": "82a36efb-ee92-40e4-9863-bb812785b178",
   "metadata": {},
   "outputs": [
    {
     "name": "stdout",
     "output_type": "stream",
     "text": [
      "expected_return : 0.050000\n",
      "expected_variance : 0.000002\n",
      "expected_volatility : 0.001510\n"
     ]
    }
   ],
   "source": [
    "# Compute efficient portfolio for a given target return\n",
    "target_return = 0.05\n",
    "\n",
    "weights_target_ptf = compute_efficient_portfolio_weights(inv_covariance_matrix, unit_vector, returns_vector, target_return)\n",
    "expected_return_target, expected_var_target, expected_volat_target = compute_metrics_ptf(weights_target_ptf, returns_array, covariance_matrix)"
   ]
  }
 ],
 "metadata": {
  "kernelspec": {
   "display_name": "Python 3 (ipykernel)",
   "language": "python",
   "name": "python3"
  },
  "language_info": {
   "codemirror_mode": {
    "name": "ipython",
    "version": 3
   },
   "file_extension": ".py",
   "mimetype": "text/x-python",
   "name": "python",
   "nbconvert_exporter": "python",
   "pygments_lexer": "ipython3",
   "version": "3.9.16"
  }
 },
 "nbformat": 4,
 "nbformat_minor": 5
}
