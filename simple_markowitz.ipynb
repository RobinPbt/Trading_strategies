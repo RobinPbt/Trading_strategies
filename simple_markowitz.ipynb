{
 "cells": [
  {
   "cell_type": "code",
   "execution_count": 2,
   "id": "9ee7b6d4-fa34-40a4-9f29-62bcfbe26929",
   "metadata": {},
   "outputs": [],
   "source": [
    "import pandas as pd\n",
    "import numpy as np\n",
    "import matplotlib.pyplot as plt"
   ]
  },
  {
   "cell_type": "code",
   "execution_count": 3,
   "id": "6d631580-66fb-4996-90ed-9c530f990808",
   "metadata": {},
   "outputs": [],
   "source": [
    "# Load datas and drop NaN rows\n",
    "\n",
    "stock_prices_df = pd.read_csv(\"./datas/CAC_40.csv\", index_col=\"Date\")\n",
    "stock_prices_df.dropna(inplace=True)"
   ]
  },
  {
   "cell_type": "code",
   "execution_count": 4,
   "id": "a3d28e39-a697-47d5-9f24-e9d1fb4e5adc",
   "metadata": {},
   "outputs": [
    {
     "name": "stdout",
     "output_type": "stream",
     "text": [
      "2014-06-27 - 2023-06-19\n",
      "2297 listing days\n"
     ]
    }
   ],
   "source": [
    "# Max common period\n",
    "print(\"{} - {}\".format(stock_prices_df.index[0], stock_prices_df.index[-1]))\n",
    "print(\"{} listing days\".format(len(stock_prices_df)))"
   ]
  },
  {
   "cell_type": "code",
   "execution_count": 5,
   "id": "bfbdf030-5aae-4cac-bffe-4bad37073ca7",
   "metadata": {},
   "outputs": [
    {
     "name": "stdout",
     "output_type": "stream",
     "text": [
      "2021-07-08 - 2023-06-19\n"
     ]
    }
   ],
   "source": [
    "# Select desired time_period --> TO BE IMPROVED\n",
    "nb_days = 500\n",
    "stock_prices_df = stock_prices_df.iloc[-nb_days:, :]\n",
    "print(\"{} - {}\".format(stock_prices_df.index[0], stock_prices_df.index[-1]))"
   ]
  },
  {
   "cell_type": "code",
   "execution_count": 6,
   "id": "4ab245cc-2106-4cd1-b884-fb3d2178afe2",
   "metadata": {},
   "outputs": [],
   "source": [
    "def compute_returns(stock_prices_df, continuous=True):\n",
    "    # Dividends not included --> TO BE IMPROVED\n",
    "    \n",
    "    returns_df = stock_prices_df.copy()\n",
    "    \n",
    "    if continuous: # Continuous returns\n",
    "        for col in returns_df.columns:\n",
    "            returns_df[col] = np.log(returns_df[col].shift(1) / returns_df[col])\n",
    "            \n",
    "    else: # Discrete returns\n",
    "        for col in returns_df.columns:\n",
    "            returns_df[col] = returns_df[col].pct_change()\n",
    "            \n",
    "    return returns_df"
   ]
  },
  {
   "cell_type": "code",
   "execution_count": 7,
   "id": "0743651b-36c4-476e-8700-93913832836a",
   "metadata": {},
   "outputs": [],
   "source": [
    "# Compute daily returns (continuous)\n",
    "\n",
    "daily_returns_df = compute_returns(stock_prices_df, continuous=True)\n",
    "    \n",
    "daily_returns_df.dropna(inplace=True)\n",
    "market_returns_df = daily_returns_df[\"^FCHI\"]\n",
    "daily_returns_df.drop(\"^FCHI\", axis=1, inplace=True)"
   ]
  },
  {
   "cell_type": "markdown",
   "id": "1b411b19-7c7f-4de1-853b-b53e06f9c039",
   "metadata": {},
   "source": [
    "# Compute optimal portfolio allocations"
   ]
  },
  {
   "cell_type": "code",
   "execution_count": 8,
   "id": "f749f515-484c-472f-bc2e-6974bad7f1f4",
   "metadata": {},
   "outputs": [],
   "source": [
    "def expected_return(weights_vector, returns_vector):\n",
    "    \n",
    "    expected_return = weights_vector.T @ returns_vector\n",
    "    expected_return = expected_return[0][0]\n",
    "    \n",
    "    return expected_return"
   ]
  },
  {
   "cell_type": "code",
   "execution_count": 9,
   "id": "c453f678-9d9a-498f-afb3-84413ab331b1",
   "metadata": {},
   "outputs": [],
   "source": [
    "def expected_variance(weights_vector, covariance_matrix):\n",
    "    \n",
    "    expected_variance = weights_vector.T @ covariance_matrix @ weights_vector\n",
    "    expected_variance = expected_variance.values[0][0]\n",
    "    \n",
    "    return expected_variance"
   ]
  },
  {
   "cell_type": "code",
   "execution_count": 45,
   "id": "fe982e80-abee-4541-9536-68db63d6ce9d",
   "metadata": {},
   "outputs": [],
   "source": [
    "class PortfolioAllocation():\n",
    "    \"\"\"\n",
    "    Class allowing to compute best allocations of investments (weights) in a panel of stocks to optmize risk/return couple. \n",
    "    \n",
    "    args:\n",
    "    - daily_returns_df (pd.DataFrame): panel of stocks prices over a selected period\n",
    "    \"\"\"\n",
    "       \n",
    "    def __init__(self, daily_returns_df):\n",
    "        self.daily_returns_df = daily_returns_df\n",
    "        \n",
    "        # Compute returns for the period and reshape array\n",
    "        total_period_returns = daily_returns_df.sum()\n",
    "        self.returns_vector = np.array(total_period_returns).reshape(-1, 1)\n",
    "        \n",
    "        # Compute covariance matrix and its inverse\n",
    "        self.covariance_matrix = self.daily_returns_df.cov()\n",
    "        self.inv_covariance_matrix = np.linalg.inv(self.covariance_matrix)\n",
    "        \n",
    "        # Compute vector of ones and returns vector with ones column\n",
    "        self.unit_vector = np.full((len(self.returns_vector), 1), 1)\n",
    "        self.returns_unit = np.c_[self.returns_vector, self.unit_vector].T\n",
    "        \n",
    "        # Compute transormation matrix for efficient frontier --> compute directly in __init__ or in a dedicated function ?\n",
    "        a = self.returns_unit @ self.inv_covariance_matrix @ self.returns_unit.T\n",
    "        inv_a = np.linalg.inv(a)\n",
    "        self.transfo_matrix = self.inv_covariance_matrix @ self.returns_unit.T @ inv_a\n",
    "        \n",
    "    def compute_GMVP_weights(self, display_results=True):\n",
    "        \"\"\"\n",
    "        Compute GMVP (Global minimum variance portfolio) weights allocation.\n",
    "        \n",
    "        args:\n",
    "        - display_results (bool): decide to display or not expected return, variance and volatility\n",
    "        \"\"\"\n",
    "    \n",
    "        self.GMVP_weights = (self.inv_covariance_matrix @ self.unit_vector) / (self.unit_vector.T @ self.inv_covariance_matrix @ self.unit_vector)\n",
    "        self.expected_return_GMVP = expected_return(self.GMVP_weights, self.returns_vector)\n",
    "        self.expected_variance_GMVP = expected_variance(self.GMVP_weights, self.covariance_matrix)\n",
    "\n",
    "        if display_results:\n",
    "            print(\"Expected return GMVP : {:.6f}\".format(self.expected_return_GMVP))\n",
    "            print(\"Expected variance GMVP : {:.6f}\".format(self.expected_variance_GMVP))\n",
    "            print(\"Expected volatility GMVP : {:.6f}\".format(np.sqrt(self.expected_variance_GMVP)))\n",
    "        \n",
    "    def compute_efficient_portfolio_weights(self, target_return, display_results=True):\n",
    "        \"\"\"\n",
    "        Compute portfolio weights allocation which minimizes variance for a given target return.\n",
    "        \n",
    "        args:\n",
    "        - display_results (bool): decide to display or not expected return, variance and volatility\n",
    "        \"\"\"\n",
    "\n",
    "        self.efficient_portfolio_weights = self.transfo_matrix @ np.array([target_return, 1]).reshape(-1, 1)\n",
    "        self.expected_return_efficient_portfolio = expected_return(self.efficient_portfolio_weights, self.returns_vector)\n",
    "        self.expected_variance_efficient_portfolio = expected_variance(self.efficient_portfolio_weights, self.covariance_matrix)\n",
    "        \n",
    "        if display_results:\n",
    "            print(\"Expected return efficient portfolio : {:.6f}\".format(self.expected_return_efficient_portfolio))\n",
    "            print(\"Expected variance efficient portfolio : {:.6f}\".format(self.expected_variance_efficient_portfolio))\n",
    "            print(\"Expected volatility efficient portfolio : {:.6f}\".format(np.sqrt(self.expected_variance_efficient_portfolio)))\n",
    "        \n",
    "    def plot_efficient_frontier(self):\n",
    "        \"\"\"\n",
    "        Plot the line of efficient portfolio in the range [-50%, +50%] in a return/variance chart.\n",
    "        \"\"\"\n",
    "        \n",
    "        expected_returns = [i/100 for i in range(-50, 50, 1)] # Quid letting range as function parameter ? \n",
    "        expected_variances = []\n",
    "        \n",
    "        # Compute variances for each return specified in expected_returns\n",
    "        for i in expected_returns:\n",
    "            weights = self.transfo_matrix @ np.array([i, 1]).reshape(-1, 1)\n",
    "            expected_var = expected_variance(weights, self.covariance_matrix)\n",
    "            expected_variances.append(expected_var)\n",
    "            \n",
    "        # Plot the frontier and GMVP\n",
    "        fig = plt.figure()\n",
    "        \n",
    "        plt.plot(expected_variances, expected_returns) # Frontier\n",
    "        plt.scatter(self.expected_variance_GMVP, self.expected_return_GMVP) # GMVP\n",
    "        plt.text(self.expected_variance_GMVP+(7*(10**-7)), self.expected_return_GMVP-(1*(10**-2)), \"GMVP\")\n",
    "        \n",
    "        plt.ylabel(\"Rentability\")\n",
    "        plt.xlabel(\"Variance\")\n",
    "        plt.show()"
   ]
  },
  {
   "cell_type": "code",
   "execution_count": 46,
   "id": "6d85ff4a-bd01-4bae-912e-d4d5e0f83762",
   "metadata": {},
   "outputs": [
    {
     "name": "stdout",
     "output_type": "stream",
     "text": [
      "Expected return GMVP : -0.102247\n",
      "Expected variance GMVP : 0.000038\n",
      "Expected volatility GMVP : 0.006124\n",
      "--------------------------------------------------\n",
      "Expected return efficient portfolio : 0.050000\n",
      "Expected variance efficient portfolio : 0.000039\n",
      "Expected volatility efficient portfolio : 0.006276\n"
     ]
    }
   ],
   "source": [
    "# Create a portfolio and computing optimal allocations\n",
    "my_ptf = PortfolioAllocation(daily_returns_df)\n",
    "my_ptf.compute_GMVP_weights()\n",
    "print(\"-\"*50)\n",
    "my_ptf.compute_efficient_portfolio_weights(0.05)"
   ]
  },
  {
   "cell_type": "code",
   "execution_count": 12,
   "id": "5d5432e0-0b22-497f-a268-ad908af980f2",
   "metadata": {},
   "outputs": [
    {
     "data": {
      "image/png": "[encoded data removed]",
      "text/plain": [
       "<Figure size 640x480 with 1 Axes>"
      ]
     },
     "metadata": {},
     "output_type": "display_data"
    }
   ],
   "source": [
    "# Plot frontier\n",
    "my_ptf.plot_efficient_frontier()"
   ]
  },
  {
   "cell_type": "markdown",
   "id": "73597e07-30f4-49fd-b53d-0bc9f92afec9",
   "metadata": {},
   "source": [
    "# Compute ratios"
   ]
  },
  {
   "cell_type": "code",
   "execution_count": 66,
   "id": "b7d2bc8a-a54a-4b56-99db-a7eabc47d1f4",
   "metadata": {},
   "outputs": [],
   "source": [
    "def compute_beta(stock_returns, market_returns):\n",
    "    \n",
    "    # Check if time period is identical\n",
    "    if (stock_returns.index != market_returns.index).sum() != 0:\n",
    "        raise ValueError(\"Periods of stock_returns and market_returns aren't identical\")\n",
    "        \n",
    "    covariance_matrix = pd.DataFrame({'stock' : stock_returns, 'market' : market_returns}).cov()\n",
    "    \n",
    "    var_stock = covariance_matrix.iloc[0,0]\n",
    "    var_market = covariance_matrix.iloc[1,1]\n",
    "    covariance = covariance_matrix.iloc[0,1]\n",
    "    \n",
    "    beta = covariance / var_market\n",
    "    \n",
    "    return beta"
   ]
  },
  {
   "cell_type": "code",
   "execution_count": 83,
   "id": "00ad5153-77c2-4cf1-9271-b01e6cfd3192",
   "metadata": {},
   "outputs": [],
   "source": [
    "def portfolio_metrics(daily_returns_df, market_returns, weights):\n",
    "    \n",
    "    betas_stocks = []\n",
    "    \n",
    "    # Compute beta for each individual stock in the portfolio\n",
    "    for stock in daily_returns_df.columns:\n",
    "        beta = compute_beta(daily_returns_df[stock], market_returns_df)\n",
    "        betas_stocks.append(beta)\n",
    "    \n",
    "    # Compute the total beta for portfolio\n",
    "    beta_ptf = np.array(betas_stocks) @ weights\n",
    "    \n",
    "    return betas_stocks, beta_ptf"
   ]
  },
  {
   "cell_type": "code",
   "execution_count": 86,
   "id": "7a8c19f0-dbdb-4382-b44d-883e71fb2ef6",
   "metadata": {},
   "outputs": [],
   "source": [
    "betas_stocks, beta_ptf = portfolio_metrics(daily_returns_df, market_returns_df, my_ptf.efficient_portfolio_weights)"
   ]
  },
  {
   "cell_type": "code",
   "execution_count": 87,
   "id": "7afa3002-8e68-4c7d-8941-817d6fdb41ed",
   "metadata": {},
   "outputs": [
    {
     "data": {
      "text/plain": [
       "array([[1.0877718]])"
      ]
     },
     "execution_count": 87,
     "metadata": {},
     "output_type": "execute_result"
    }
   ],
   "source": [
    "# Test beta with linear reg\n",
    "from sklearn.linear_model import LinearRegression\n",
    "\n",
    "model = LinearRegression()\n",
    "model.fit(np.array(market_returns_df).reshape(-1, 1), np.array(daily_returns_df[\"ACA.PA\"]).reshape(-1, 1))\n",
    "model.coef_"
   ]
  }
 ],
 "metadata": {
  "kernelspec": {
   "display_name": "Python 3 (ipykernel)",
   "language": "python",
   "name": "python3"
  },
  "language_info": {
   "codemirror_mode": {
    "name": "ipython",
    "version": 3
   },
   "file_extension": ".py",
   "mimetype": "text/x-python",
   "name": "python",
   "nbconvert_exporter": "python",
   "pygments_lexer": "ipython3",
   "version": "3.9.16"
  }
 },
 "nbformat": 4,
 "nbformat_minor": 5
}
