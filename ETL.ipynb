{
 "cells": [
  {
   "cell_type": "code",
   "execution_count": 157,
   "id": "fd1f84f8-e526-4406-9f3f-71dda7c9a51c",
   "metadata": {},
   "outputs": [],
   "source": [
    "from yahooquery import Ticker\n",
    "import pandas as pd\n",
    "import numpy as np\n",
    "import datetime as dt\n",
    "import pytz\n",
    "from ETL_functions import *"
   ]
  },
  {
   "cell_type": "code",
   "execution_count": 158,
   "id": "635c4ae2-0735-4e97-b8fd-482e68d87e18",
   "metadata": {},
   "outputs": [],
   "source": [
    "timezone = pytz.timezone('CET')\n",
    "timeformat=\"%d-%m-%Y %T:%M%p\""
   ]
  },
  {
   "cell_type": "code",
   "execution_count": 159,
   "id": "08c10ef9-4594-4f10-bdc9-254b8eb583b1",
   "metadata": {},
   "outputs": [],
   "source": [
    "from symbols import CAC_40"
   ]
  },
  {
   "cell_type": "markdown",
   "id": "abc70b0e-cd57-4ed4-98b0-03e188e30dfa",
   "metadata": {},
   "source": [
    "##### General info"
   ]
  },
  {
   "cell_type": "code",
   "execution_count": 178,
   "id": "954412e9-7b99-4a3f-a1a8-47bc911620c6",
   "metadata": {
    "tags": []
   },
   "outputs": [],
   "source": [
    "tickers = Ticker(CAC_40)\n",
    "query_time = dt.datetime.now(tz=timezone).strftime(timeformat)\n",
    "query_result_1 = tickers.asset_profile\n",
    "\n",
    "selected_items_1 = ['sector', 'industry', 'country', 'fullTimeEmployees']\n",
    "\n",
    "query_result_2 = tickers.price\n",
    "\n",
    "selected_items_2 = ['regularMarketSource', 'exchange', 'exchangeName', 'exchangeDataDelayedBy', 'marketState', 'quoteType', 'currency', 'shortName']\n",
    "\n",
    "query_result_list = [query_result_1, query_result_2]\n",
    "selected_items_list = [selected_items_1, selected_items_2]\n",
    "\n",
    "path_history = './databases/general_info.csv'\n",
    "path_last = None"
   ]
  },
  {
   "cell_type": "code",
   "execution_count": 213,
   "id": "e180b41f-d8c4-42b0-92b3-77354a16c20d",
   "metadata": {},
   "outputs": [],
   "source": [
    "ETL(path_history, path_last, query_result_list, selected_items_list, query_time)"
   ]
  },
  {
   "cell_type": "markdown",
   "id": "a1b9533a-b470-4b53-b04e-f7d4874b3e01",
   "metadata": {
    "tags": []
   },
   "source": [
    "##### Estimates"
   ]
  },
  {
   "cell_type": "code",
   "execution_count": 135,
   "id": "fb9d4a6d-d68f-492d-8065-1bf93dc16b71",
   "metadata": {},
   "outputs": [],
   "source": [
    "tickers = Ticker(CAC_40)\n",
    "query_time = dt.datetime.now(tz=timezone).strftime(timeformat)\n",
    "query_result = tickers.financial_data\n",
    "\n",
    "selected_items = ['targetHighPrice', 'targetLowPrice', 'targetMeanPrice', 'targetMedianPrice', 'recommendationMean', 'recommendationKey', 'numberOfAnalystOpinions']\n",
    "\n",
    "query_result_list = [query_result]\n",
    "selected_items_list = [selected_items]\n",
    "\n",
    "path_history = './databases/history_estimates.csv'\n",
    "path_last = './databases/last_estimates.csv'"
   ]
  },
  {
   "cell_type": "code",
   "execution_count": 136,
   "id": "cb6a9c2b-4853-41c4-95d8-8a85d138c5cf",
   "metadata": {},
   "outputs": [],
   "source": [
    "ETL(path_history, path_last, query_result_list, selected_items_list, query_time)"
   ]
  },
  {
   "cell_type": "markdown",
   "id": "d484cc1f-70ba-4f50-bd9b-331d806a3857",
   "metadata": {
    "tags": []
   },
   "source": [
    "##### Stock price"
   ]
  },
  {
   "cell_type": "code",
   "execution_count": 152,
   "id": "dc2b5100-3f9b-4b0b-a931-372396125a44",
   "metadata": {
    "tags": []
   },
   "outputs": [],
   "source": [
    "tickers = Ticker(CAC_40)\n",
    "query_time = dt.datetime.now(tz=timezone).strftime(timeformat)\n",
    "query_result_1 = tickers.summary_detail\n",
    "\n",
    "selected_items_1 = [\n",
    "    'priceHint', \n",
    "    'previousClose', \n",
    "    'open', \n",
    "    'dayLow', \n",
    "    'dayHigh', \n",
    "    'regularMarketPreviousClose',\n",
    "    'regularMarketOpen',\n",
    "    'regularMarketDayLow',\n",
    "    'regularMarketDayHigh',\n",
    "    'fiftyTwoWeekLow',\n",
    "    'fiftyTwoWeekHigh',\n",
    "    'fiftyDayAverage',\n",
    "    'twoHundredDayAverage',\n",
    "    'volume', \n",
    "    'regularMarketVolume', \n",
    "    'averageVolume', \n",
    "    'averageVolume10days', \n",
    "    'averageDailyVolume10Day'\n",
    "]\n",
    "\n",
    "query_result_2 = tickers.price\n",
    "\n",
    "selected_items_2 = [\n",
    "    'regularMarketChangePercent', \n",
    "    'regularMarketChange', \n",
    "    'regularMarketTime', \n",
    "    'regularMarketPrice', \n",
    "]\n",
    "\n",
    "query_result_list = [query_result_1, query_result_2]\n",
    "selected_items_list = [selected_items_1, selected_items_2]\n",
    "\n",
    "path_history = './databases/history_prices.csv'\n",
    "path_last = './databases/last_prices.csv'"
   ]
  },
  {
   "cell_type": "code",
   "execution_count": 153,
   "id": "ce9e2420-da47-4f68-abe8-be919a5760d6",
   "metadata": {},
   "outputs": [],
   "source": [
    "ETL(path_history, path_last, query_result_list, selected_items_list, query_time)"
   ]
  },
  {
   "cell_type": "markdown",
   "id": "7c18d2dc-d084-4c55-a65a-ac11aa4332db",
   "metadata": {
    "tags": []
   },
   "source": [
    "##### Stock info"
   ]
  },
  {
   "cell_type": "code",
   "execution_count": 222,
   "id": "ad33ede9-4a3b-4e95-97e4-cb356bab3ccd",
   "metadata": {},
   "outputs": [],
   "source": [
    "tickers = Ticker(CAC_40)\n",
    "query_time = dt.datetime.now(tz=timezone).strftime(timeformat)\n",
    "query_result = tickers.key_stats\n",
    "\n",
    "selected_items = ['floatShares', 'sharesOutstanding', 'heldPercentInsiders', 'heldPercentInstitutions', 'lastSplitFactor', 'lastSplitDate']\n",
    "\n",
    "query_result_list = [query_result]\n",
    "selected_items_list = [selected_items]\n",
    "\n",
    "path_history = './databases/stock_info.csv'\n",
    "path_last = None"
   ]
  },
  {
   "cell_type": "code",
   "execution_count": 224,
   "id": "30f82c69-8cbb-45d6-9c6d-ff1be77bd607",
   "metadata": {},
   "outputs": [],
   "source": [
    "ETL(path_history, path_last, query_result_list, selected_items_list, query_time)"
   ]
  },
  {
   "cell_type": "markdown",
   "id": "4b5a0a32-9793-4478-aeaa-37f5448322e6",
   "metadata": {
    "tags": []
   },
   "source": [
    "##### Ratings"
   ]
  },
  {
   "cell_type": "code",
   "execution_count": 226,
   "id": "55fe7d12-7a2a-4c30-9e45-952e7afc366f",
   "metadata": {
    "tags": []
   },
   "outputs": [],
   "source": [
    "tickers = Ticker(CAC_40)\n",
    "query_time = dt.datetime.now(tz=timezone).strftime(timeformat)\n",
    "query_result_1 = tickers.asset_profile\n",
    "\n",
    "selected_items_1 = ['auditRisk', 'boardRisk', 'compensationRisk', 'shareHolderRightsRisk', 'overallRisk']\n",
    "\n",
    "query_result_2 = tickers.esg_scores\n",
    "\n",
    "selected_items_2 = ['totalEsg', 'environmentScore', 'socialScore', 'governanceScore', 'ratingYear', 'ratingMonth', 'highestControversy']\n",
    "\n",
    "query_result_list = [query_result_1, query_result_2]\n",
    "selected_items_list = [selected_items_1, selected_items_2]\n",
    "\n",
    "path_history = './databases/ratings.csv'\n",
    "path_last = None"
   ]
  },
  {
   "cell_type": "code",
   "execution_count": 228,
   "id": "f41f6eba-2075-4672-a877-bd64911a1154",
   "metadata": {},
   "outputs": [],
   "source": [
    "ETL(path_history, path_last, query_result_list, selected_items_list, query_time)"
   ]
  },
  {
   "cell_type": "markdown",
   "id": "4bf8a37c-5527-46d3-afa6-66214909e229",
   "metadata": {
    "tags": []
   },
   "source": [
    "##### Dividends"
   ]
  },
  {
   "cell_type": "code",
   "execution_count": 230,
   "id": "b1c348ef-aef4-4e17-8385-437584e38b58",
   "metadata": {
    "tags": []
   },
   "outputs": [],
   "source": [
    "tickers = Ticker(CAC_40)\n",
    "query_time = dt.datetime.now(tz=timezone).strftime(timeformat)\n",
    "query_result_1 = tickers.key_stats\n",
    "\n",
    "selected_items_1 = ['lastDividendValue', 'lastDividendDate']\n",
    "\n",
    "query_result_2 = tickers.summary_detail\n",
    "\n",
    "selected_items_2 = ['dividendRate', 'dividendYield', 'exDividendDate', 'payoutRatio', 'fiveYearAvgDividendYield', 'trailingAnnualDividendRate', 'trailingAnnualDividendYield']\n",
    "\n",
    "query_result_list = [query_result_1, query_result_2]\n",
    "selected_items_list = [selected_items_1, selected_items_2]\n",
    "\n",
    "path_history = './databases/dividends.csv'\n",
    "path_last = None"
   ]
  },
  {
   "cell_type": "code",
   "execution_count": 233,
   "id": "d4568510-ac05-475b-bc23-733e3ef11fca",
   "metadata": {},
   "outputs": [],
   "source": [
    "ETL(path_history, path_last, query_result_list, selected_items_list, query_time)"
   ]
  },
  {
   "cell_type": "markdown",
   "id": "f50307b9-1244-4dc0-bedb-2bafc6c93453",
   "metadata": {
    "tags": []
   },
   "source": [
    "##### Valuation"
   ]
  },
  {
   "cell_type": "code",
   "execution_count": 235,
   "id": "a09cb38d-a6f4-4e42-bc25-820f6cf2056b",
   "metadata": {
    "tags": []
   },
   "outputs": [],
   "source": [
    "tickers = Ticker(CAC_40)\n",
    "query_time = dt.datetime.now(tz=timezone).strftime(timeformat)\n",
    "query_result_1 = tickers.key_stats\n",
    "\n",
    "selected_items_1 = ['enterpriseValue', 'forwardPE', 'bookValue', 'priceToBook', 'enterpriseToRevenue', 'enterpriseToEbitda', 'beta', 'pegRatio']\n",
    "\n",
    "query_result_2 = tickers.summary_detail\n",
    "\n",
    "selected_items_2 = ['trailingPE', 'marketCap', 'priceToSalesTrailing12Months']\n",
    "\n",
    "query_result_list = [query_result_1, query_result_2]\n",
    "selected_items_list = [selected_items_1, selected_items_2]\n",
    "\n",
    "path_history = './databases/history_valuations.csv'\n",
    "path_last = './databases/last_valuations.csv'"
   ]
  },
  {
   "cell_type": "code",
   "execution_count": 237,
   "id": "f9c64ffb-741f-490a-a851-0695e463b91f",
   "metadata": {},
   "outputs": [],
   "source": [
    "ETL(path_history, path_last, query_result_list, selected_items_list, query_time)"
   ]
  },
  {
   "cell_type": "markdown",
   "id": "2fd0d849-d65b-4076-9b2b-151161a19780",
   "metadata": {
    "tags": []
   },
   "source": [
    "##### Financials"
   ]
  },
  {
   "cell_type": "code",
   "execution_count": 239,
   "id": "27b5e2f7-50f6-490f-8f00-e6f700dad88c",
   "metadata": {},
   "outputs": [],
   "source": [
    "tickers = Ticker(CAC_40)\n",
    "query_time = dt.datetime.now(tz=timezone).strftime(timeformat)\n",
    "query_result = tickers.financial_data\n",
    "\n",
    "selected_items = [\n",
    "    'totalCash', 'totalCashPerShare', 'totalDebt', 'quickRatio', 'currentRatio', 'debtToEquity', # Balance sheet\n",
    "    'totalRevenue', 'revenuePerShare', 'revenueGrowth', 'grossProfits', 'grossMargins', 'operatingMargins', 'ebitda', 'ebitdaMargins', 'earningsGrowth', 'profitMargins', # P&L\n",
    "    'freeCashflow', 'operatingCashflow', # Cash flow\n",
    "    'returnOnAssets', 'returnOnEquity', # Performance\n",
    "]\n",
    "\n",
    "query_result_list = [query_result]\n",
    "selected_items_list = [selected_items]\n",
    "\n",
    "path_history = './databases/financials.csv'\n",
    "path_last = None"
   ]
  },
  {
   "cell_type": "code",
   "execution_count": 242,
   "id": "fef4ed88-7306-4fbc-9afa-273ec2b870f9",
   "metadata": {},
   "outputs": [],
   "source": [
    "ETL(path_history, path_last, query_result_list, selected_items_list, query_time)"
   ]
  }
 ],
 "metadata": {
  "kernelspec": {
   "display_name": "Python 3 (ipykernel)",
   "language": "python",
   "name": "python3"
  },
  "language_info": {
   "codemirror_mode": {
    "name": "ipython",
    "version": 3
   },
   "file_extension": ".py",
   "mimetype": "text/x-python",
   "name": "python",
   "nbconvert_exporter": "python",
   "pygments_lexer": "ipython3",
   "version": "3.9.16"
  }
 },
 "nbformat": 4,
 "nbformat_minor": 5
}
